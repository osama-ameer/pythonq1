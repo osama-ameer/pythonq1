{
 "cells": [
  {
   "cell_type": "code",
   "execution_count": 4,
   "metadata": {},
   "outputs": [
    {
     "name": "stdout",
     "output_type": "stream",
     "text": [
      "Enter english marks== 100\n",
      "Enter urdu marks== 100\n",
      "Enter maths marks== 100\n",
      "Enter physics marks== 100\n",
      "Enter python marks== 100\n",
      "Your percentage is 100.0 %\n"
     ]
    }
   ],
   "source": [
    "eng=int(input(\"Enter english marks== \"))\n",
    "urdu=int(input(\"Enter urdu marks== \"))\n",
    "maths=int(input(\"Enter maths marks== \"))\n",
    "phy=int(input(\"Enter physics marks== \"))\n",
    "py=int(input(\"Enter python marks== \"))\n",
    "total=500\n",
    "obt=eng+urdu+maths+phy+py\n",
    "res=obt/total\n",
    "per=res*100\n",
    "print(\"Your percentage is\",per,\"%\")"
   ]
  },
  {
   "cell_type": "code",
   "execution_count": null,
   "metadata": {},
   "outputs": [],
   "source": []
  },
  {
   "cell_type": "code",
   "execution_count": null,
   "metadata": {},
   "outputs": [],
   "source": []
  },
  {
   "cell_type": "code",
   "execution_count": null,
   "metadata": {},
   "outputs": [],
   "source": []
  }
 ],
 "metadata": {
  "kernelspec": {
   "display_name": "Python 3",
   "language": "python",
   "name": "python3"
  },
  "language_info": {
   "codemirror_mode": {
    "name": "ipython",
    "version": 3
   },
   "file_extension": ".py",
   "mimetype": "text/x-python",
   "name": "python",
   "nbconvert_exporter": "python",
   "pygments_lexer": "ipython3",
   "version": "3.7.3"
  }
 },
 "nbformat": 4,
 "nbformat_minor": 2
}
