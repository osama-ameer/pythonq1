{
 "cells": [
  {
   "cell_type": "code",
   "execution_count": 7,
   "metadata": {},
   "outputs": [
    {
     "name": "stdout",
     "output_type": "stream",
     "text": [
      "Enter english marks== 50\n",
      "Enter urdu marks== 50\n",
      "Enter maths marks== 50\n",
      "Enter physics marks== 50\n",
      "Enter python marks== 100\n",
      "Your percentage is 60.0 %\n",
      "Grade B\n"
     ]
    }
   ],
   "source": [
    "eng=int(input(\"Enter english marks== \"))\n",
    "urdu=int(input(\"Enter urdu marks== \"))\n",
    "maths=int(input(\"Enter maths marks== \"))\n",
    "phy=int(input(\"Enter physics marks== \"))\n",
    "py=int(input(\"Enter python marks== \"))\n",
    "total=500\n",
    "obt=eng+urdu+maths+phy+py\n",
    "res=obt/total\n",
    "per=res*100\n",
    "print(\"Your percentage is\",per,\"%\")\n",
    "if(per<=100 and per>=80):\n",
    " print(\"Grade A+\")\n",
    "elif(per<80 and per>=70):\n",
    " print(\"Grade A\")\n",
    "elif(per<70 and per>=60):\n",
    " print(\"Grade B\")\n",
    "elif(per<60 and per>=50):\n",
    " print(\"Grade C\")\n",
    "elif(per<50 and per>=60):\n",
    " print(\"Grade D\")\n",
    "else:\n",
    "    print(\"Failed\")\n",
    "    "
   ]
  },
  {
   "cell_type": "code",
   "execution_count": null,
   "metadata": {},
   "outputs": [],
   "source": []
  },
  {
   "cell_type": "code",
   "execution_count": null,
   "metadata": {},
   "outputs": [],
   "source": []
  },
  {
   "cell_type": "code",
   "execution_count": null,
   "metadata": {},
   "outputs": [],
   "source": []
  }
 ],
 "metadata": {
  "kernelspec": {
   "display_name": "Python 3",
   "language": "python",
   "name": "python3"
  },
  "language_info": {
   "codemirror_mode": {
    "name": "ipython",
    "version": 3
   },
   "file_extension": ".py",
   "mimetype": "text/x-python",
   "name": "python",
   "nbconvert_exporter": "python",
   "pygments_lexer": "ipython3",
   "version": "3.7.3"
  }
 },
 "nbformat": 4,
 "nbformat_minor": 2
}
